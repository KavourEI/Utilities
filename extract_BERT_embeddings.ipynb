{
  "nbformat": 4,
  "nbformat_minor": 0,
  "metadata": {
    "colab": {
      "provenance": [],
      "gpuType": "T4",
      "authorship_tag": "ABX9TyNocArAmJIHNH4HaH1oDldI",
      "include_colab_link": true
    },
    "kernelspec": {
      "name": "python3",
      "display_name": "Python 3"
    },
    "language_info": {
      "name": "python"
    },
    "accelerator": "GPU"
  },
  "cells": [
    {
      "cell_type": "markdown",
      "metadata": {
        "id": "view-in-github",
        "colab_type": "text"
      },
      "source": [
        "<a href=\"https://colab.research.google.com/github/KavourEI/Utilities/blob/main/extract_BERT_embeddings.ipynb\" target=\"_parent\"><img src=\"https://colab.research.google.com/assets/colab-badge.svg\" alt=\"Open In Colab\"/></a>"
      ]
    },
    {
      "cell_type": "code",
      "source": [
        "import torch"
      ],
      "metadata": {
        "id": "9KFIdaqFT7Uz"
      },
      "execution_count": 49,
      "outputs": []
    },
    {
      "cell_type": "code",
      "source": [
        "text = ['I fine tune BERT', 'I feel sick', 'I want to talk', 'I would like to attened to a talk show']"
      ],
      "metadata": {
        "id": "fY5gL28wQYSN"
      },
      "execution_count": 35,
      "outputs": []
    },
    {
      "cell_type": "code",
      "source": [
        "from transformers import BertTokenizer, BertModel\n",
        "\n",
        "tokenizer = BertTokenizer.from_pretrained('bert-base-uncased')\n",
        "model = BertModel.from_pretrained('bert-base-uncased')\n"
      ],
      "metadata": {
        "id": "IBAup8G2RY3t"
      },
      "execution_count": 29,
      "outputs": []
    },
    {
      "cell_type": "code",
      "source": [
        "tokens = []\n",
        "for sentence in text:\n",
        "  tokens.append(tokenizer(sentence, return_tensors='pt'))\n",
        "tokens"
      ],
      "metadata": {
        "colab": {
          "base_uri": "https://localhost:8080/"
        },
        "id": "qRkzYrorS0ob",
        "outputId": "41b132a1-4abf-4fab-cdf8-e26b372f2a2e"
      },
      "execution_count": 43,
      "outputs": [
        {
          "output_type": "execute_result",
          "data": {
            "text/plain": [
              "[{'input_ids': tensor([[  101,  1045,  2986,  8694, 14324,   102]]), 'token_type_ids': tensor([[0, 0, 0, 0, 0, 0]]), 'attention_mask': tensor([[1, 1, 1, 1, 1, 1]])},\n",
              " {'input_ids': tensor([[ 101, 1045, 2514, 5305,  102]]), 'token_type_ids': tensor([[0, 0, 0, 0, 0]]), 'attention_mask': tensor([[1, 1, 1, 1, 1]])},\n",
              " {'input_ids': tensor([[ 101, 1045, 2215, 2000, 2831,  102]]), 'token_type_ids': tensor([[0, 0, 0, 0, 0, 0]]), 'attention_mask': tensor([[1, 1, 1, 1, 1, 1]])},\n",
              " {'input_ids': tensor([[ 101, 1045, 2052, 2066, 2000, 2012, 6528, 2098, 2000, 1037, 2831, 2265,\n",
              "           102]]), 'token_type_ids': tensor([[0, 0, 0, 0, 0, 0, 0, 0, 0, 0, 0, 0, 0]]), 'attention_mask': tensor([[1, 1, 1, 1, 1, 1, 1, 1, 1, 1, 1, 1, 1]])}]"
            ]
          },
          "metadata": {},
          "execution_count": 43
        }
      ]
    },
    {
      "cell_type": "code",
      "source": [
        "for tok in tokens:\n",
        "  with torch.no_grad():\n",
        "    outputs = model(**tok)\n",
        "    embeddings = outputs.last_hidden_state"
      ],
      "metadata": {
        "id": "lh7naFRsS9lP"
      },
      "execution_count": 45,
      "outputs": []
    },
    {
      "cell_type": "code",
      "source": [
        "for tok in tokens:\n",
        "  with torch.no_grad():\n",
        "    outputs = model(**tok)\n",
        "    custom_embeddings = outputs.last_hidden_state"
      ],
      "metadata": {
        "id": "b8b8G0oVTJOK"
      },
      "execution_count": 47,
      "outputs": []
    },
    {
      "cell_type": "code",
      "source": [
        "custom_embeddings"
      ],
      "metadata": {
        "colab": {
          "base_uri": "https://localhost:8080/"
        },
        "id": "gQgnl2H2TLbR",
        "outputId": "6975f4e1-9245-4816-8f5d-fd8302acdd4f"
      },
      "execution_count": 39,
      "outputs": [
        {
          "output_type": "execute_result",
          "data": {
            "text/plain": [
              "tensor([[[ 0.0413,  0.2832,  0.1685,  ..., -0.0666,  0.0695,  0.1277],\n",
              "         [ 0.2303,  0.3664,  0.5830,  ..., -0.6024,  0.4259,  0.0628],\n",
              "         [ 0.7881,  0.0594,  0.6659,  ...,  0.1266,  0.6265, -0.0048],\n",
              "         [ 0.3156, -0.2798,  0.3545,  ...,  0.2650,  0.4174, -0.9424],\n",
              "         [ 0.1925, -0.1172,  0.2999,  ...,  0.7922,  0.2565,  0.0514],\n",
              "         [ 0.8008,  0.1722, -0.1140,  ..., -0.0883, -0.7313, -0.0700]]])"
            ]
          },
          "metadata": {},
          "execution_count": 39
        }
      ]
    },
    {
      "cell_type": "code",
      "source": [
        "print(f\"Custom embeddings is a {custom_embeddings.dtype} type with dimentions {custom_embeddings.size()}\")"
      ],
      "metadata": {
        "colab": {
          "base_uri": "https://localhost:8080/"
        },
        "id": "F5R09cmHTPSv",
        "outputId": "0aa09335-3cbc-4dd6-fdf2-cfd3b59b8058"
      },
      "execution_count": 57,
      "outputs": [
        {
          "output_type": "stream",
          "name": "stdout",
          "text": [
            "Custom embeddings is a torch.float32 type with dimentions torch.Size([1, 13, 768])\n"
          ]
        }
      ]
    },
    {
      "cell_type": "code",
      "source": [],
      "metadata": {
        "id": "-vYXiug3UTcg"
      },
      "execution_count": null,
      "outputs": []
    }
  ]
}